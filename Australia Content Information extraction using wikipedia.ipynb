{
 "cells": [
  {
   "cell_type": "markdown",
   "id": "fe828137-9e6a-456f-8e6b-11ab58419a71",
   "metadata": {},
   "source": [
    "# Installing the module "
   ]
  },
  {
   "cell_type": "code",
   "execution_count": 2,
   "id": "da3f81fe-9564-446c-99b4-955815a82334",
   "metadata": {},
   "outputs": [
    {
     "name": "stdout",
     "output_type": "stream",
     "text": [
      "Requirement already satisfied: wikipedia-api in ./Documents/chrome-downloads/anaconda/anaconda3/lib/python3.12/site-packages (0.7.1)\n",
      "Requirement already satisfied: requests in ./Documents/chrome-downloads/anaconda/anaconda3/lib/python3.12/site-packages (from wikipedia-api) (2.32.2)\n",
      "Requirement already satisfied: charset-normalizer<4,>=2 in ./Documents/chrome-downloads/anaconda/anaconda3/lib/python3.12/site-packages (from requests->wikipedia-api) (2.0.4)\n",
      "Requirement already satisfied: idna<4,>=2.5 in ./Documents/chrome-downloads/anaconda/anaconda3/lib/python3.12/site-packages (from requests->wikipedia-api) (3.7)\n",
      "Requirement already satisfied: urllib3<3,>=1.21.1 in ./Documents/chrome-downloads/anaconda/anaconda3/lib/python3.12/site-packages (from requests->wikipedia-api) (2.2.2)\n",
      "Requirement already satisfied: certifi>=2017.4.17 in ./Documents/chrome-downloads/anaconda/anaconda3/lib/python3.12/site-packages (from requests->wikipedia-api) (2024.6.2)\n",
      "Note: you may need to restart the kernel to use updated packages.\n"
     ]
    }
   ],
   "source": [
    "pip install wikipedia-api"
   ]
  },
  {
   "cell_type": "code",
   "execution_count": 3,
   "id": "ba47f5ab-43c2-4c2b-86b4-26bff93aaf4b",
   "metadata": {},
   "outputs": [],
   "source": [
    "import wikipediaapi\n",
    "import re\n",
    "import json\n",
    "import requests\n",
    "from bs4 import BeautifulSoup\n",
    "import warnings\n",
    "warnings.filterwarnings('ignore')"
   ]
  },
  {
   "cell_type": "markdown",
   "id": "027f3640-c899-499c-a8b6-b31b5d03ce34",
   "metadata": {},
   "source": [
    "**Wikipedia strongly encourages and, in some cases, requires a user agent, especially for higher usage. This helps Wikipedia track and manage resources effectively, allowing them to reach out if your script is causing issues or excessive traffic.**"
   ]
  },
  {
   "cell_type": "code",
   "execution_count": 4,
   "id": "ac35f736-b23a-4c41-893d-e0c6b8c69774",
   "metadata": {},
   "outputs": [],
   "source": [
    "# Initialize the Wikipedia API with a custom user agent\n",
    "user_agent = \"MyCountryInfoScript/1.0 (https://mywebsite.com; myemail@gmail.com)\"\n",
    "wiki_wiki = wikipediaapi.Wikipedia(language='en',user_agent = user_agent)"
   ]
  },
  {
   "cell_type": "code",
   "execution_count": 5,
   "id": "a575781d-7783-4503-bdca-ddee8306aa05",
   "metadata": {},
   "outputs": [],
   "source": [
    "# Initialize the Wikipedia API with a custom user agent\n",
    "user_agent = \"MyCountryInfoScript/1.0 (https://mywebsite.com; myemail@example.com)\"\n",
    "wiki_wiki = wikipediaapi.Wikipedia(language='en', user_agent= user_agent)\n",
    "\n",
    "def fetch_infobox_content(country_name):\n",
    "    # Access the Wikipedia page for the country\n",
    "    page = wiki_wiki.page(country_name)\n",
    "\n",
    "    # Check if the page exists\n",
    "    if not page.exists():\n",
    "        print(f\"The page for {country_name} does not exist.\")\n",
    "        return None\n",
    "    \n",
    "    # Get the HTML of the page\n",
    "    url = page.fullurl\n",
    "    response = requests.get(url)\n",
    "    soup = BeautifulSoup(response.text, 'html.parser')\n",
    "    \n",
    "    # Find the infobox table (it usually has class \"infobox\")\n",
    "    infobox = soup.find('table', {'class': 'infobox'})\n",
    "    if not infobox:\n",
    "        print(\"Infobox not found.\")\n",
    "        return None\n",
    "\n",
    "    # Extract plain text from each row in the infobox\n",
    "    infobox_text = \"\"\n",
    "    for row in infobox.find_all(['tr']):\n",
    "        # Get each cell in the row\n",
    "        cells = row.find_all(['th', 'td'])\n",
    "        \n",
    "        # Append each cell's text to the infobox_text string\n",
    "        row_text = \" \".join(cell.get_text(\" \", strip=True) for cell in cells)\n",
    "        infobox_text += row_text + \"\\n\"\n",
    "    \n",
    "    return infobox_text"
   ]
  },
  {
   "cell_type": "code",
   "execution_count": 6,
   "id": "ced015c9-e2a8-4ac9-8272-0a6c27909cc7",
   "metadata": {},
   "outputs": [],
   "source": [
    "import unicodedata\n",
    "\n",
    "def remove_accents(text):\n",
    "    # Normalize the text to separate accents from letters\n",
    "    normalized_text = unicodedata.normalize('NFD', text)\n",
    "    # Filter out the accents and keep only ASCII characters\n",
    "    ascii_text = ''.join(char for char in normalized_text if unicodedata.category(char) != 'Mn')\n",
    "    return ascii_text"
   ]
  },
  {
   "cell_type": "markdown",
   "id": "580724d5-03d7-4c1b-87df-a226e7d583ca",
   "metadata": {},
   "source": [
    "# Fetching the content of all coutries "
   ]
  },
  {
   "cell_type": "markdown",
   "id": "d909ef40-1783-4c36-b921-e286405fee59",
   "metadata": {},
   "source": [
    "# Australia"
   ]
  },
  {
   "cell_type": "code",
   "execution_count": 7,
   "id": "65d8556e-d803-4b1a-8b9c-6f418a431e9f",
   "metadata": {},
   "outputs": [],
   "source": [
    "aus = fetch_infobox_content(\"Australia\")"
   ]
  },
  {
   "cell_type": "code",
   "execution_count": 8,
   "id": "045b6222-649d-4b8d-b9c9-b528d8253f33",
   "metadata": {},
   "outputs": [],
   "source": [
    "nz = fetch_infobox_content(\"New Zealand\")"
   ]
  },
  {
   "cell_type": "code",
   "execution_count": 9,
   "id": "e6dfde2d-5ed8-4143-b5dc-d50f98689681",
   "metadata": {},
   "outputs": [],
   "source": [
    "png = fetch_infobox_content(\"Papua New Guinea\")"
   ]
  },
  {
   "cell_type": "code",
   "execution_count": 10,
   "id": "42be027f-f499-426a-9ec6-27d0e36c5782",
   "metadata": {},
   "outputs": [],
   "source": [
    "nauru = fetch_infobox_content(\"Nauru\")"
   ]
  },
  {
   "cell_type": "code",
   "execution_count": 11,
   "id": "1356d6c0-36ac-465a-8472-69873bffb451",
   "metadata": {},
   "outputs": [],
   "source": [
    "palau = fetch_infobox_content(\"Palau\")"
   ]
  },
  {
   "cell_type": "code",
   "execution_count": 12,
   "id": "95d56514-5129-404f-965b-27320b10090c",
   "metadata": {},
   "outputs": [],
   "source": [
    "solomon = fetch_infobox_content(\"Solomon Islands\")"
   ]
  },
  {
   "cell_type": "code",
   "execution_count": 13,
   "id": "1c67349a-707b-4076-8f33-a8f584bf5856",
   "metadata": {},
   "outputs": [],
   "source": [
    "fiji = fetch_infobox_content(\"Fiji\")"
   ]
  },
  {
   "cell_type": "code",
   "execution_count": 14,
   "id": "b5ca79d6-db53-4a5f-b581-425fff3c683f",
   "metadata": {},
   "outputs": [],
   "source": [
    "tuvalu = fetch_infobox_content(\"Tuvalu\")"
   ]
  },
  {
   "cell_type": "code",
   "execution_count": 15,
   "id": "c5eb9a95-c8f0-402c-9c6c-b9a8dabc3939",
   "metadata": {},
   "outputs": [],
   "source": [
    "tonga = fetch_infobox_content(\"Tonga\")"
   ]
  },
  {
   "cell_type": "code",
   "execution_count": 16,
   "id": "fbd4ff2f-4b2e-4737-a063-2032505bda39",
   "metadata": {},
   "outputs": [],
   "source": [
    "samoa = fetch_infobox_content(\"Samoa\")"
   ]
  },
  {
   "cell_type": "code",
   "execution_count": 17,
   "id": "5fb4e3e7-565a-4660-8a51-4d8cd67d5ef0",
   "metadata": {},
   "outputs": [],
   "source": [
    "kiribati = fetch_infobox_content(\"Kiribati\")"
   ]
  },
  {
   "cell_type": "code",
   "execution_count": 18,
   "id": "1af6ff1d-1da0-4649-a148-3eec7b6f1a4a",
   "metadata": {},
   "outputs": [],
   "source": [
    "ml= fetch_infobox_content(\"Marshall Islands\")"
   ]
  },
  {
   "cell_type": "code",
   "execution_count": 19,
   "id": "f516f290-7829-4c73-9e92-590c65322ab0",
   "metadata": {},
   "outputs": [],
   "source": [
    "vanuatu = fetch_infobox_content(\"Vanuatu\")"
   ]
  },
  {
   "cell_type": "markdown",
   "id": "e57769c9-32fc-4e5f-80f2-4ed5206b9604",
   "metadata": {},
   "source": [
    "# Regular Expression \n",
    "\n",
    "**Using Regular Expression to extract all the key information needed from the wikipedia page.**"
   ]
  },
  {
   "cell_type": "code",
   "execution_count": 124,
   "id": "957403dc-5937-4e0d-8b34-4d8c23c5255e",
   "metadata": {},
   "outputs": [],
   "source": [
    "def fetch_area(country):\n",
    "    area = re.findall(\"Total\\s([0-9,]+)\",country)\n",
    "    water = re.findall(\"Water\\s\\(\\%\\)\\s([0-9.]+)\",country)\n",
    "    return ''.join(area), ''.join(water)"
   ]
  },
  {
   "cell_type": "code",
   "execution_count": 125,
   "id": "64f2a451-78c9-49cc-8fb6-91ac4eee6f66",
   "metadata": {},
   "outputs": [],
   "source": [
    "def fetch_capital(country):\n",
    "    if country.startswith(\"New Zealand\"):\n",
    "        cap = re.findall(\"Capital\\s([a-zA-Z]+(?:\\s[A-Za-z]+){0,3})\",country)\n",
    "        city = re.findall(\"Largest\\scity\\s([A-Za-z]+(?:\\s[a-zA-Z]+){0,2})(?=\\n)\",country)\n",
    "        return ''.join(cap) ,''.join(city)\n",
    "    else:\n",
    "        city = re.findall(\"Capital\\sand\\slargest\\scity\\s([a-zA-Z]+(?:\\s[a-zA-Z]+){0,3})\",country)\n",
    "        return ''.join(city) ,''.join(city)"
   ]
  },
  {
   "cell_type": "code",
   "execution_count": 127,
   "id": "4425c01e-c2c6-4784-9357-1e6434fcbd8c",
   "metadata": {},
   "outputs": [],
   "source": [
    "def fetch_lang(country):\n",
    "    if country.startswith(\"New Zealand\") :\n",
    "        lang = re.findall(\"Official\\slanguages\\s([a-zA-z]+(?:\\s[a-zA-Z]+){0,4})\",country)\n",
    "    elif country.startswith(\"Commonwealth of Australia\"):\n",
    "        lang = re.findall(\"Official\\slanguage\\sand\\snational\\slanguage\\s([A-za-z]+)\",country)\n",
    "    else:\n",
    "        lang = re.findall(\"Official\\slanguages\\s([a-zA-z]+(?:\\s[a-zA-Z]+){0,4})(?=\\n)\",country)\n",
    "    return ''.join(lang)"
   ]
  },
  {
   "cell_type": "code",
   "execution_count": 23,
   "id": "8819758f-0af5-4443-b56d-25e44d4e2025",
   "metadata": {},
   "outputs": [],
   "source": [
    "def fetch_cur(country):\n",
    "    cur = re.findall(\"Currency\\s([A-Za-z.ʻā]+(?:\\s[A-Za-z.]+){0,3})\",country)\n",
    "    return ''.join(cur)"
   ]
  },
  {
   "cell_type": "code",
   "execution_count": 24,
   "id": "57019f8f-341b-4ff0-b2d0-d0f3cd0207a4",
   "metadata": {},
   "outputs": [],
   "source": [
    "#accurate\n",
    "def fetch_info(country):\n",
    "    if country.startswith(\"Netherlands\"):\n",
    "        anthem = re.findall(\"Anthem\\s\\:\\s([a-zA-z]+)\",country)\n",
    "    elif country.startswith(\"Tuvalu\"):\n",
    "        anthem = re.findall(\"Anthem\\:\\s([a-zA-z]+(?:\\s[A-Za-z]+){0,3})\",country)\n",
    "    else:\n",
    "        anthem = re.findall(\"Anthem:\\s.*?\\\"([^\\\"]+)\\\"\",country)\n",
    "    flag = re.findall(\"Flag\\s([A-Za-z]+(?:\\s[A-Za-z]+){0,3})(?=\\n)\",country)\n",
    "    if country.startswith(\"Solomon Islands\") or  country.startswith(\"Republic of Kiribati\") :\n",
    "        demonym = re.findall(\"Demonym\\(s\\)\\s([A-Za-z-]+(?:\\s[A-Za-z]+){0,3})(?=\\n)\",country)\n",
    "    elif country.startswith(\"New Zealand\"):\n",
    "        demonym = re.findall(\"Demonym\\(s\\)\\s([A-Za-z-]+(?:\\s[a-zA-Z]+){0,3})\",country)\n",
    "    else:\n",
    "        demonym = re.findall(\"Demonym\\(s\\)\\s([A-Za-z-]+)\",country)\n",
    "    \n",
    "    return anthem,flag,demonym"
   ]
  },
  {
   "cell_type": "markdown",
   "id": "de2d7955-78a9-4f7d-bea7-35b8be73c048",
   "metadata": {},
   "source": [
    "**Function to fetch each and every detail for specific country**"
   ]
  },
  {
   "cell_type": "code",
   "execution_count": 25,
   "id": "229e17a8-d8e2-4f55-97a8-6cb42e332827",
   "metadata": {},
   "outputs": [],
   "source": [
    "def fetch_all_details(country):\n",
    "    a = fetch_area(country)\n",
    "    b = fetch_capital(country)\n",
    "    c = fetch_lang(country)\n",
    "    d = fetch_cur(country)\n",
    "    e = fetch_info(country)\n",
    "    land=''\n",
    "    total_area= a[0]\n",
    "    water = a[1]\n",
    "    if len(a)==3:\n",
    "        land = a[2]\n",
    "    capital = b[0] or \"No official capital\"\n",
    "    largest = b[1] \n",
    "    lang = c or \"English\"\n",
    "    currency = d\n",
    "    anthem = e[0]\n",
    "    flag = e[1]\n",
    "    demonym = e[2]   \n",
    "    \n",
    "    all_info = {\n",
    "        key: value for key, value in {\n",
    "            \"Country\": country.splitlines()[0],\n",
    "            \"Capital\": capital,\n",
    "            \"Largest City\": largest,\n",
    "            \"Official Language\": lang,\n",
    "            \"Currency\": currency,\n",
    "            \"National Anthem\": ''.join(anthem),\n",
    "            \"National Flag\": ''.join(flag),\n",
    "            \"Demonym\": ''.join(demonym),\n",
    "            \"Total Area\": total_area,\n",
    "            \"Water (%)\": water,\n",
    "            \"Total Land Area\":land\n",
    "        }.items() if value\n",
    "    }\n",
    "    return all_info"
   ]
  },
  {
   "cell_type": "markdown",
   "id": "24ba452d-8d0f-44b1-bcb1-b74a48c6b01d",
   "metadata": {},
   "source": [
    "# Australia"
   ]
  },
  {
   "cell_type": "code",
   "execution_count": 48,
   "id": "e58a8707-e8d9-4e17-b1f3-8726d5417804",
   "metadata": {},
   "outputs": [],
   "source": [
    "country_aus = fetch_all_details(aus)"
   ]
  },
  {
   "cell_type": "code",
   "execution_count": 49,
   "id": "79be5c0b-4925-4ff5-9ffc-7b9d21103467",
   "metadata": {},
   "outputs": [],
   "source": [
    "country_nz = fetch_all_details(nz)"
   ]
  },
  {
   "cell_type": "code",
   "execution_count": 53,
   "id": "26648295-c0f6-40ae-849d-df04f1ac344c",
   "metadata": {},
   "outputs": [],
   "source": [
    "country_png = fetch_all_details(png)"
   ]
  },
  {
   "cell_type": "code",
   "execution_count": 50,
   "id": "f4c1117a-4197-484c-8700-fe696af1ecf0",
   "metadata": {},
   "outputs": [],
   "source": [
    "country_nauru = fetch_all_details(nauru)"
   ]
  },
  {
   "cell_type": "code",
   "execution_count": 51,
   "id": "d270fa5f-e0c6-4d75-a02f-edc3998a7c2a",
   "metadata": {},
   "outputs": [],
   "source": [
    "country_palau = fetch_all_details(palau)"
   ]
  },
  {
   "cell_type": "code",
   "execution_count": 52,
   "id": "b537715e-3fda-46b3-af8a-890645ce0b5c",
   "metadata": {},
   "outputs": [],
   "source": [
    "country_solomon = fetch_all_details(solomon)"
   ]
  },
  {
   "cell_type": "code",
   "execution_count": 54,
   "id": "76c5304a-d1e3-47b5-a2fd-f804827c7f93",
   "metadata": {},
   "outputs": [],
   "source": [
    "country_fiji = fetch_all_details(fiji)"
   ]
  },
  {
   "cell_type": "code",
   "execution_count": 55,
   "id": "7b666338-b3a3-4ef5-89d5-2ac284ca722d",
   "metadata": {},
   "outputs": [],
   "source": [
    "country_tuvalu = fetch_all_details(tuvalu)"
   ]
  },
  {
   "cell_type": "code",
   "execution_count": 57,
   "id": "a3c0b1ac-e754-4bd3-b592-efbb9d5dcdfa",
   "metadata": {},
   "outputs": [],
   "source": [
    "country_tonga = fetch_all_details(tonga)"
   ]
  },
  {
   "cell_type": "code",
   "execution_count": 56,
   "id": "5bd45805-9d56-4c00-a2ae-9cae89e7d116",
   "metadata": {},
   "outputs": [],
   "source": [
    "country_samoa = fetch_all_details(samoa)"
   ]
  },
  {
   "cell_type": "code",
   "execution_count": 60,
   "id": "efbc642c-ebdb-4c3a-b2cd-b7925558b13a",
   "metadata": {},
   "outputs": [],
   "source": [
    "country_kiribati = fetch_all_details(kiribati)"
   ]
  },
  {
   "cell_type": "code",
   "execution_count": 59,
   "id": "51298266-a142-493b-a0b7-fc3ffef0faff",
   "metadata": {},
   "outputs": [],
   "source": [
    "country_ml  =fetch_all_details(ml)"
   ]
  },
  {
   "cell_type": "code",
   "execution_count": 58,
   "id": "93307cfe-3640-4c6a-b62e-9d0734b787ab",
   "metadata": {},
   "outputs": [],
   "source": [
    "country_vanuatu  =fetch_all_details(vanuatu)"
   ]
  },
  {
   "cell_type": "code",
   "execution_count": 39,
   "id": "095f2f4d-caef-40ab-be72-cea88cd42661",
   "metadata": {},
   "outputs": [],
   "source": [
    "australasia_info = {\n",
    "    \"Australia\": country_aus,\n",
    "    \"New Zealand\":country_nz,\n",
    "    \"Papua New Guinea\":country_png,\n",
    "    \"Nauru\":country_nauru,\n",
    "    \"Palau\": country_palau,\n",
    "    \"Solomon Islands\":country_solomon,\n",
    "    \"Vanuatu\": country_vanuatu,\n",
    "    \"Fiji\":country_fiji,\n",
    "    \"Tuvalu\":country_tuvalu,\n",
    "    \"Tonga\":country_tonga,\n",
    "    \"Samoa\":country_samoa,\n",
    "    \"Kiribati\":country_kiribati,\n",
    "    \"Marshall Islands\":country_ml\n",
    "}"
   ]
  },
  {
   "cell_type": "code",
   "execution_count": 128,
   "id": "d2e8478c-b0cb-4864-9735-25a051b3d9a9",
   "metadata": {},
   "outputs": [
    {
     "data": {
      "text/plain": [
       "{'Australia': {'Country': 'Commonwealth of Australia',\n",
       "  'Capital': 'Canberra',\n",
       "  'Largest City': 'Sydney',\n",
       "  'Official Language': 'English',\n",
       "  'Currency': 'Australian dollar',\n",
       "  'National Anthem': ' Advance Australia Fair ',\n",
       "  'National Flag': 'Coat of arms',\n",
       "  'Demonym': 'Australian',\n",
       "  'Total Area': '7,688,287',\n",
       "  'Water (%)': '1.79'},\n",
       " 'New Zealand': {'Country': 'New Zealand Aotearoa ( Māori )',\n",
       "  'Capital': 'Wellington',\n",
       "  'Largest City': 'Auckland',\n",
       "  'Official Language': 'English',\n",
       "  'Currency': 'New Zealand dollar',\n",
       "  'National Flag': 'Coat of arms',\n",
       "  'Demonym': 'New Zealander Kiwi',\n",
       "  'Total Area': '268,021',\n",
       "  'Water (%)': '1.6'},\n",
       " 'Papua New Guinea': {'Country': 'Independent State of Papua New Guinea Independen Stet bilong Papua Niugini ( Tok Pisin ) Independen Stet bilong Papua Niu Gini ( Hiri Motu )',\n",
       "  'Capital': 'Port Moresby',\n",
       "  'Largest City': 'Port Moresby',\n",
       "  'Official Language': 'English',\n",
       "  'Currency': 'Kina',\n",
       "  'National Anthem': ' O Arise, All You Sons ',\n",
       "  'National Flag': 'National emblem',\n",
       "  'Demonym': 'Papua',\n",
       "  'Total Area': '462,840',\n",
       "  'Water (%)': '2'},\n",
       " 'Nauru': {'Country': 'Republic of Nauru Repubrikin Naoero ( Nauruan ) [ 1 ]',\n",
       "  'Capital': 'None',\n",
       "  'Largest City': 'Denigomodu',\n",
       "  'Official Language': 'English',\n",
       "  'Currency': 'Australian dollar',\n",
       "  'National Anthem': 'Nauru, our homeland',\n",
       "  'National Flag': 'Coat of arms',\n",
       "  'Demonym': 'Nauruan',\n",
       "  'Total Area': '21',\n",
       "  'Water (%)': '0.57'},\n",
       " 'Palau': {'Country': 'Republic of Palau Beluu er a Belau ( Palauan )',\n",
       "  'Capital': 'Ngerulmud',\n",
       "  'Largest City': 'Koror',\n",
       "  'Official Language': 'Palauan English',\n",
       "  'Currency': 'United States dollar',\n",
       "  'National Flag': 'Seal',\n",
       "  'Demonym': 'Palauan',\n",
       "  'Total Area': '459'},\n",
       " 'Solomon Islands': {'Country': 'Solomon Islands Solomon Aelan ( Pijin )',\n",
       "  'Capital': 'Honiara',\n",
       "  'Largest City': 'Honiara',\n",
       "  'Official Language': 'English Pijin',\n",
       "  'Currency': 'Solomon Islands dollar',\n",
       "  'National Anthem': ' God Save Our Solomon Islands ',\n",
       "  'National Flag': 'Coat of arms',\n",
       "  'Demonym': 'Solomon Islander Solomonese',\n",
       "  'Total Area': '28,896',\n",
       "  'Water (%)': '3.2'},\n",
       " 'Vanuatu': {'Country': 'Republic of Vanuatu Ripablik blong Vanuatu ( Bislama ) République de Vanuatu ( French )',\n",
       "  'Capital': 'Port Vila',\n",
       "  'Largest City': 'Port Vila',\n",
       "  'Official Language': 'Bislama English French',\n",
       "  'Currency': 'Vatu',\n",
       "  'National Anthem': ' Yumi, Yumi, Yumi ',\n",
       "  'National Flag': 'Coat of arms',\n",
       "  'Demonym': 'Ni-Vanuatu',\n",
       "  'Total Area': '12,189'},\n",
       " 'Fiji': {'Country': 'Republic of Fiji Matanitu Tugalala o Viti ( Fijian ) फ़िजी गणराज्य Fijī Gaṇarājya ( Fiji Hindi )',\n",
       "  'Capital': 'Suva',\n",
       "  'Largest City': 'Suva',\n",
       "  'Official Language': 'English',\n",
       "  'Currency': 'Fijian dollar',\n",
       "  'National Anthem': ' God Bless Fiji ',\n",
       "  'National Flag': 'Coat of arms',\n",
       "  'Demonym': 'Fijian',\n",
       "  'Total Area': '18,274'},\n",
       " 'Tuvalu': {'Country': 'Tuvalu Tuvalu ( Tuvaluan )',\n",
       "  'Capital': 'Funafuti',\n",
       "  'Largest City': 'Funafuti',\n",
       "  'Official Language': 'Tuvaluan English',\n",
       "  'Currency': 'Tuvaluan dollar Australian dollar',\n",
       "  'National Anthem': 'Tuvalu mo te Atua',\n",
       "  'National Flag': 'Coat of arms',\n",
       "  'Demonym': 'Tuvaluan',\n",
       "  'Total Area': '26'},\n",
       " 'Tonga': {'Country': 'Kingdom of Tonga Puleʻanga Fakatuʻi ʻo Tonga ( Tongan )',\n",
       "  'Capital': 'Nuku',\n",
       "  'Largest City': 'Nuku',\n",
       "  'Official Language': 'Tongan English',\n",
       "  'Currency': 'Paʻanga',\n",
       "  'National Anthem': ' Ko e fasi ʻo e tuʻi ʻo e ʻOtu Tonga ',\n",
       "  'National Flag': 'Coat of arms',\n",
       "  'Demonym': 'Tongan',\n",
       "  'Total Area': '748',\n",
       "  'Water (%)': '4.0'},\n",
       " 'Samoa': {'Country': 'Independent State of Samoa Malo Saʻoloto Tutoʻatasi o Sāmoa ( Samoan )',\n",
       "  'Capital': 'Apia',\n",
       "  'Largest City': 'Apia',\n",
       "  'Official Language': 'English',\n",
       "  'Currency': 'Tālā',\n",
       "  'National Anthem': 'The Banner of Freedom',\n",
       "  'National Flag': 'Coat of arms',\n",
       "  'Demonym': 'Samoan',\n",
       "  'Total Area': '2,831',\n",
       "  'Water (%)': '0.3'},\n",
       " 'Kiribati': {'Country': 'Republic of Kiribati Ribaberiki Kiribati ( Gilbertese )',\n",
       "  'Capital': 'Tarawa',\n",
       "  'Largest City': 'South Tarawa',\n",
       "  'Official Language': 'English Gilbertese',\n",
       "  'Currency': 'Australian dollar',\n",
       "  'National Anthem': 'Song of Kiribati',\n",
       "  'National Flag': 'Coat of arms',\n",
       "  'Demonym': 'I-Kiribati',\n",
       "  'Total Area': '811'},\n",
       " 'Marshall Islands': {'Country': 'Republic of the Marshall Islands Aolepān Aorōkin Ṃajeḷ ( Marshallese )',\n",
       "  'Capital': 'Majuro',\n",
       "  'Largest City': 'Majuro',\n",
       "  'Official Language': 'Marshallese English',\n",
       "  'Currency': 'United States dollar',\n",
       "  'National Anthem': ' Forever Marshall Islands ',\n",
       "  'National Flag': 'Seal',\n",
       "  'Demonym': 'Marshallese',\n",
       "  'Total Area': '181'}}"
      ]
     },
     "execution_count": 128,
     "metadata": {},
     "output_type": "execute_result"
    }
   ],
   "source": [
    "australasia_info"
   ]
  },
  {
   "cell_type": "code",
   "execution_count": 41,
   "id": "f6172653-14b1-4af2-a800-5e4dfbb50074",
   "metadata": {},
   "outputs": [],
   "source": [
    "with open('australasia.json', 'w') as json_file:\n",
    "    json.dump(australasia_info, json_file, indent=4)"
   ]
  }
 ],
 "metadata": {
  "kernelspec": {
   "display_name": "Python 3 (ipykernel)",
   "language": "python",
   "name": "python3"
  },
  "language_info": {
   "codemirror_mode": {
    "name": "ipython",
    "version": 3
   },
   "file_extension": ".py",
   "mimetype": "text/x-python",
   "name": "python",
   "nbconvert_exporter": "python",
   "pygments_lexer": "ipython3",
   "version": "3.12.4"
  }
 },
 "nbformat": 4,
 "nbformat_minor": 5
}
