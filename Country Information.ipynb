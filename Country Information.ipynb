{
 "cells": [
  {
   "cell_type": "code",
   "execution_count": null,
   "id": "0e297a90-7b40-404e-a7bf-561cf3d7563a",
   "metadata": {},
   "outputs": [],
   "source": [
    "# Installing the module "
   ]
  },
  {
   "cell_type": "code",
   "execution_count": null,
   "id": "7d90a461-8701-48a6-a806-fd1aca7fd25d",
   "metadata": {},
   "outputs": [],
   "source": [
    "pip install re"
   ]
  },
  {
   "cell_type": "code",
   "execution_count": 302,
   "id": "da3f81fe-9564-446c-99b4-955815a82334",
   "metadata": {},
   "outputs": [
    {
     "name": "stdout",
     "output_type": "stream",
     "text": [
      "Requirement already satisfied: wikipedia-api in ./Documents/chrome-downloads/anaconda/anaconda3/lib/python3.12/site-packages (0.7.1)\n",
      "Requirement already satisfied: requests in ./Documents/chrome-downloads/anaconda/anaconda3/lib/python3.12/site-packages (from wikipedia-api) (2.32.2)\n",
      "Requirement already satisfied: charset-normalizer<4,>=2 in ./Documents/chrome-downloads/anaconda/anaconda3/lib/python3.12/site-packages (from requests->wikipedia-api) (2.0.4)\n",
      "Requirement already satisfied: idna<4,>=2.5 in ./Documents/chrome-downloads/anaconda/anaconda3/lib/python3.12/site-packages (from requests->wikipedia-api) (3.7)\n",
      "Requirement already satisfied: urllib3<3,>=1.21.1 in ./Documents/chrome-downloads/anaconda/anaconda3/lib/python3.12/site-packages (from requests->wikipedia-api) (2.2.2)\n",
      "Requirement already satisfied: certifi>=2017.4.17 in ./Documents/chrome-downloads/anaconda/anaconda3/lib/python3.12/site-packages (from requests->wikipedia-api) (2024.6.2)\n",
      "Note: you may need to restart the kernel to use updated packages.\n"
     ]
    }
   ],
   "source": [
    "pip install wikipedia-api"
   ]
  },
  {
   "cell_type": "code",
   "execution_count": 303,
   "id": "ba47f5ab-43c2-4c2b-86b4-26bff93aaf4b",
   "metadata": {},
   "outputs": [],
   "source": [
    "import wikipediaapi\n",
    "import re\n",
    "import requests\n",
    "from bs4 import BeautifulSoup\n",
    "import warnings\n",
    "warnings.filterwarnings('ignore')"
   ]
  },
  {
   "cell_type": "markdown",
   "id": "027f3640-c899-499c-a8b6-b31b5d03ce34",
   "metadata": {},
   "source": [
    "**Wikipedia strongly encourages and, in some cases, requires a user agent, especially for higher usage. This helps Wikipedia track and manage resources effectively, allowing them to reach out if your script is causing issues or excessive traffic.**"
   ]
  },
  {
   "cell_type": "code",
   "execution_count": 304,
   "id": "ac35f736-b23a-4c41-893d-e0c6b8c69774",
   "metadata": {},
   "outputs": [],
   "source": [
    "# Initialize the Wikipedia API with a custom user agent\n",
    "user_agent = \"MyCountryInfoScript/1.0 (https://mywebsite.com; myemail@gmail.com)\"\n",
    "wiki_wiki = wikipediaapi.Wikipedia(language='en',user_agent = user_agent)"
   ]
  },
  {
   "cell_type": "code",
   "execution_count": 305,
   "id": "a575781d-7783-4503-bdca-ddee8306aa05",
   "metadata": {},
   "outputs": [],
   "source": [
    "# Initialize the Wikipedia API with a custom user agent\n",
    "user_agent = \"MyCountryInfoScript/1.0 (https://mywebsite.com; myemail@example.com)\"\n",
    "wiki_wiki = wikipediaapi.Wikipedia(language='en', user_agent= user_agent)\n",
    "\n",
    "def fetch_infobox_content(country_name):\n",
    "    # Access the Wikipedia page for the country\n",
    "    page = wiki_wiki.page(country_name)\n",
    "\n",
    "    # Check if the page exists\n",
    "    if not page.exists():\n",
    "        print(f\"The page for {country_name} does not exist.\")\n",
    "        return None\n",
    "    \n",
    "    # Get the HTML of the page\n",
    "    url = page.fullurl\n",
    "    response = requests.get(url)\n",
    "    soup = BeautifulSoup(response.text, 'html.parser')\n",
    "    \n",
    "    # Find the infobox table (it usually has class \"infobox\")\n",
    "    infobox = soup.find('table', {'class': 'infobox'})\n",
    "    if not infobox:\n",
    "        print(\"Infobox not found.\")\n",
    "        return None\n",
    "\n",
    "    # Extract plain text from each row in the infobox\n",
    "    infobox_text = \"\"\n",
    "    for row in infobox.find_all(['tr']):\n",
    "        # Get each cell in the row\n",
    "        cells = row.find_all(['th', 'td'])\n",
    "        \n",
    "        # Append each cell's text to the infobox_text string\n",
    "        row_text = \" \".join(cell.get_text(\" \", strip=True) for cell in cells)\n",
    "        infobox_text += row_text + \"\\n\"\n",
    "    \n",
    "    return infobox_text"
   ]
  },
  {
   "cell_type": "code",
   "execution_count": 382,
   "id": "ced015c9-e2a8-4ac9-8272-0a6c27909cc7",
   "metadata": {},
   "outputs": [],
   "source": [
    "import unicodedata\n",
    "\n",
    "def remove_accents(text):\n",
    "    # Normalize the text to separate accents from letters\n",
    "    normalized_text = unicodedata.normalize('NFD', text)\n",
    "    # Filter out the accents and keep only ASCII characters\n",
    "    ascii_text = ''.join(char for char in normalized_text if unicodedata.category(char) != 'Mn')\n",
    "    return ascii_text"
   ]
  },
  {
   "cell_type": "markdown",
   "id": "580724d5-03d7-4c1b-87df-a226e7d583ca",
   "metadata": {},
   "source": [
    "# Fetching the content of all coutries "
   ]
  },
  {
   "cell_type": "code",
   "execution_count": 306,
   "id": "be8b13a1-5e12-442d-b1fc-b03dfb8165af",
   "metadata": {},
   "outputs": [
    {
     "name": "stdout",
     "output_type": "stream",
     "text": [
      "Canada\n",
      "Flag Coat of arms\n",
      "Motto: A mari usque ad mare ( Latin ) \"From Sea to Sea\"\n",
      "Anthem: \" O Canada \" Royal anthem : \" God Save the King \" [ 1 ]\n",
      "\n",
      "Capital Ottawa 45°24′N 75°40′W ﻿ / ﻿ 45.400°N 75.667°W ﻿ / 45.400; -75.667\n",
      "Largest city Toronto\n",
      "Official languages English French\n",
      "Demonym(s) Canadian\n",
      "Government Federal parliamentary constitutional monarchy\n",
      "\n",
      "• Monarch Charles III\n",
      "• Governor General Mary Simon\n",
      "• Prime Minister Justin Trudeau\n",
      "\n",
      "Legislature Parliament\n",
      "• Upper house Senate\n",
      "• Lower house House of Commons\n",
      "Independence from the United Kingdom\n",
      "\n",
      "• Confederation July 1, 1867\n",
      "• Statute of Westminster, 1931 December 11, 1931\n",
      "• Patriation April 17, 1982\n",
      "\n",
      "Area\n",
      "• Total area 9,984,670 km 2 (3,855,100 sq mi) ( 2nd )\n",
      "• Water (%) 11.76 (2015) [ 2 ]\n",
      "• Total land area 9,093,507 km 2 (3,511,023 sq mi)\n",
      "Population\n",
      "• 2024 Q3 estimate 41,288,599 [ 3 ] ( 36th )\n",
      "• 2021 census 36,991,981 [ 4 ]\n",
      "• Density 4.2/km 2 (10.9/sq mi) ( 236th )\n",
      "GDP ( PPP ) 2024 estimate\n",
      "• Total $2.472 trillion [ 5 ] ( 16th )\n",
      "• Per capita $60,495 [ 5 ] ( 28th )\n",
      "GDP (nominal) 2024 estimate\n",
      "• Total $2.242 trillion [ 5 ] ( 10th )\n",
      "• Per capita $54,866 [ 5 ] ( 18th )\n",
      "Gini (2024) 29.2 [ 6 ] low inequality\n",
      "HDI (2022) 0.935 [ 7 ] very high ( 18th )\n",
      "Currency Canadian dollar ($) ( CAD )\n",
      "Time zone UTC −3.5 to −8\n",
      "• Summer ( DST ) UTC −2.5 to −7\n",
      "Internet TLD .ca\n",
      "\n"
     ]
    }
   ],
   "source": [
    "# Canada\n",
    "canada = fetch_infobox_content(\"Canada\")\n",
    "print(canada)"
   ]
  },
  {
   "cell_type": "code",
   "execution_count": 307,
   "id": "6ba17818-0a31-4dd6-b825-8a12e5786737",
   "metadata": {},
   "outputs": [
    {
     "name": "stdout",
     "output_type": "stream",
     "text": [
      "United States of America\n",
      "Flag Coat of arms\n",
      "Motto: \" In God We Trust \" [ 1 ] Other traditional mottos: [ 2 ] \" E pluribus unum \" ( Latin ) \"Out of many, one\" \" Annuit cœptis \" ( Latin ) \"Providence favors our undertakings\" \" Novus ordo seclorum \" ( Latin ) \"New order of the ages\"\n",
      "Anthem: \" The Star-Spangled Banner \" [ 3 ]\n",
      "Show globe ( states and D.C. only) Show the U.S. and its territories Show territories with their exclusive economic zone\n",
      "Capital Washington, D.C. 38°53′N 77°1′W ﻿ / ﻿ 38.883°N 77.017°W ﻿ / 38.883; -77.017\n",
      "Largest city New York City 40°43′N 74°0′W ﻿ / ﻿ 40.717°N 74.000°W ﻿ / 40.717; -74.000\n",
      "Official languages None at the federal level [ a ]\n",
      "National language English [ b ]\n",
      "Ethnic groups (2020) [ 4 ] [ 5 ] [ 6 ] By race: 61.6% White 12.4% Black 6% Asian 1.1% Native American 0.2% Pacific Islander 10.2% two or more races 8.4% other By origin: 81.3% non- Hispanic or Latino 18.7% Hispanic or Latino\n",
      "Religion (2023) [ 7 ] 67% Christianity 33% Protestantism 22% Catholicism 1% Mormonism 11% other Christian 22% unaffiliated 2% Judaism 6% other religion 3% unanswered\n",
      "Demonym(s) American [ c ] [ 8 ]\n",
      "Government Federal presidential republic\n",
      "\n",
      "• President Joe Biden\n",
      "• Vice President Kamala Harris\n",
      "• House Speaker Mike Johnson\n",
      "• Chief Justice John Roberts\n",
      "\n",
      "Legislature Congress\n",
      "• Upper house Senate\n",
      "• Lower house House of Representatives\n",
      "Independence from Great Britain\n",
      "\n",
      "• Declaration July 4, 1776 ( 1776-07-04 )\n",
      "• Confederation March 1, 1781 ( 1781-03-01 )\n",
      "• Recognized September 3, 1783 ( 1783-09-03 )\n",
      "• Constitution June 21, 1788 ( 1788-06-21 )\n",
      "\n",
      "Area\n",
      "• Total area 3,796,742 sq mi (9,833,520 km 2 ) [ 10 ] [ d ] ( 3rd )\n",
      "• Water (%) 7.0 [ 9 ] (2010)\n",
      "• Land area 3,531,905 sq mi (9,147,590 km 2 ) (3rd)\n",
      "Population\n",
      "• 2023 estimate 334,914,895 [ 11 ]\n",
      "• 2020 census 331,449,281 [ e ] [ 12 ] ( 3rd )\n",
      "• Density 87/sq mi (33.6/km 2 ) ( 185th )\n",
      "GDP ( PPP ) 2024 estimate\n",
      "• Total $29.167 trillion [ 13 ] ( 2nd )\n",
      "• Per capita $86,601 [ 13 ] ( 8th )\n",
      "GDP (nominal) 2024 estimate\n",
      "• Total $29.167 trillion [ 13 ] ( 1st )\n",
      "• Per capita $86,601 [ 13 ] ( 6th )\n",
      "Gini (2022) 41.7 [ f ] [ 14 ] medium inequality\n",
      "HDI (2022) 0.927 [ 15 ] very high ( 20th )\n",
      "Currency U.S. dollar ( $ ) ( USD )\n",
      "Time zone UTC −4 to −12, +10, +11\n",
      "• Summer ( DST ) UTC −4 to −10 [ g ]\n",
      "Date format mm/dd/yyyy [ h ]\n",
      "Drives on right [ i ]\n",
      "Calling code +1\n",
      "ISO 3166 code US\n",
      "Internet TLD .us [ 16 ]\n",
      "\n"
     ]
    }
   ],
   "source": [
    "# United State\n",
    "us = fetch_infobox_content(\"United States\")\n",
    "print(infobox_content_us)"
   ]
  },
  {
   "cell_type": "code",
   "execution_count": 308,
   "id": "dfe11d49-c261-4747-b3c2-75ffca8ad494",
   "metadata": {},
   "outputs": [],
   "source": [
    "# El Salvador\n",
    "el_salvador = fetch_infobox_content(\"El Salvador\")"
   ]
  },
  {
   "cell_type": "code",
   "execution_count": 309,
   "id": "b7508224-7ac1-451b-8a3f-760b08c5cb66",
   "metadata": {},
   "outputs": [
    {
     "name": "stdout",
     "output_type": "stream",
     "text": [
      "Republic of Honduras República de Honduras ( Spanish )\n",
      "Flag Coat of arms\n",
      "Motto: Libre, Soberana e Independiente \"Free, Sovereign and Independent\"\n",
      "Anthem: Himno Nacional de Honduras \" National Anthem of Honduras \"\n",
      "\n",
      "Capital and largest city Tegucigalpa 14°6′N 87°13′W ﻿ / ﻿ 14.100°N 87.217°W ﻿ / 14.100; -87.217\n",
      "Official languages Spanish\n",
      "Ethnic groups (2016) [ 1 ] 90% Mestizo (mixed Indigenous and White ) 7% Indigenous 2% Black 1% White\n",
      "Demonym(s) Honduran Catracho(a)\n",
      "Government Unitary presidential republic\n",
      "\n",
      "• President Xiomara Castro\n",
      "• Vice Presidents Salvador Nasralla Doris Gutiérrez Renato Florentino\n",
      "• President of National Congress Luis Redondo\n",
      "\n",
      "Legislature National Congress\n",
      "Independence\n",
      "\n",
      "• Declared b from Spain 15 September 1821\n",
      "• Declared from the First Mexican Empire 1 July 1823\n",
      "• Declared, as Honduras, from the Federal Republic of Central America 5 November 1838\n",
      "\n",
      "Area\n",
      "• Total 112,492 km 2 (43,433 sq mi) ( 101st )\n",
      "Population\n",
      "• 2023 estimate 9,571,352 [ 2 ] ( 95th )\n",
      "• Density 85/km 2 (220.1/sq mi) ( 128th )\n",
      "GDP ( PPP ) 2023 estimate\n",
      "• Total $75.030 billion [ 3 ] ( 108th )\n",
      "• Per capita $7,162 [ 3 ] ( 134th )\n",
      "GDP (nominal) 2023 estimate\n",
      "• Total $33.992 billion [ 3 ] ( 106th )\n",
      "• Per capita $3,245 [ 3 ] ( 135th )\n",
      "Gini (2018) 52.1 [ 4 ] high inequality\n",
      "HDI (2021) 0.621 [ 5 ] medium ( 137th )\n",
      "Currency Lempira ( HNL )\n",
      "Time zone UTC −6 ( CST )\n",
      "Drives on right\n",
      "Calling code +504\n",
      "ISO 3166 code HN\n",
      "Internet TLD .hn\n",
      "Mixture of European and American Indian . As part of the Federal Republic of Central America .\n",
      "Population estimates explicitly take into account the effects of excess mortality due to AIDS; this can result in lower life expectancy, higher infant mortality and death rates, lower population and growth rates, and changes in the distribution of population by age and sex than would otherwise be expected, as of July 2007.\n",
      "\n"
     ]
    }
   ],
   "source": [
    "honduras = fetch_infobox_content(\"Honduras\")\n",
    "print(honduras)"
   ]
  },
  {
   "cell_type": "code",
   "execution_count": 310,
   "id": "778e05b3-e3cf-46dd-b0d8-8a81713da8d0",
   "metadata": {},
   "outputs": [
    {
     "name": "stdout",
     "output_type": "stream",
     "text": [
      "United Mexican States Estados Unidos Mexicanos ( Spanish )\n",
      "Flag Coat of arms\n",
      "Anthem: Himno Nacional Mexicano (English: Mexican National Anthem )\n",
      "Mexico in the Western Hemisphere Mexico and its states\n",
      "Capital and largest city Mexico City 19°26′N 99°8′W ﻿ / ﻿ 19.433°N 99.133°W ﻿ / 19.433; -99.133\n",
      "Official languages Spanish ( de facto )\n",
      "Co-official languages 68 Indigenous languages\n",
      "Ethnic groups See below\n",
      "Religion (2020) [ 1 ] 88.9% Christianity 77.7% Catholicism 11.2% Protestantism 8.1% no religion 2.4% other religion 0.5% prefer not to say\n",
      "Demonym(s) Mexican\n",
      "Government Federal presidential republic [ 2 ]\n",
      "\n",
      "• President Claudia Sheinbaum\n",
      "• President of the Senate Gerardo Fernández Noroña\n",
      "• President of the Chamber of Deputies Sergio Gutiérrez Luna\n",
      "• Chief Justice Norma Lucía Piña Hernández\n",
      "\n",
      "Legislature Congress\n",
      "• Upper house Senate\n",
      "• Lower house Chamber of Deputies\n",
      "Independence from Spain\n",
      "\n",
      "• Start of War of Independence 16 September 1810\n",
      "• Declared 27 September 1821\n",
      "• Recognized 28 December 1836\n",
      "• First constitution 4 October 1824\n",
      "• Second constitution 5 February 1857\n",
      "• Current constitution 5 February 1917\n",
      "\n",
      "Area\n",
      "• Total 1,972,550 km 2 (761,610 sq mi) ( 13th )\n",
      "• Water (%) 1.58 (as of 2015) [ 3 ]\n",
      "Population\n",
      "• 2023 estimate 129,875,529 [ 4 ] ( 10th )\n",
      "• Density 61/km 2 (158.0/sq mi) ( 142nd )\n",
      "GDP ( PPP ) 2024 estimate\n",
      "• Total $3.303 trillion [ 5 ] ( 12th )\n",
      "• Per capita $24,971 [ 5 ] ( 70th )\n",
      "GDP (nominal) 2024 estimate\n",
      "• Total $1.848 trillion [ 5 ] ( 12th )\n",
      "• Per capita $13,971 [ 5 ] ( 63rd )\n",
      "Gini (2022) 40.2 [ 6 ] medium inequality\n",
      "HDI (2023) 0.781 [ 7 ] high ( 77th )\n",
      "Currency Mexican peso ( MXN )\n",
      "Time zone UTC −8 to −5 ( See Time in Mexico )\n",
      "• Summer ( DST ) UTC −7 to −5 (varies)\n",
      "Date format dd/mm/yyyy\n",
      "Drives on right\n",
      "Calling code +52\n",
      "ISO 3166 code MX\n",
      "Internet TLD .mx\n",
      "^ Article 4 of the General Law of Linguistic Rights of the Indigenous Peoples [ 8 ] [ 9 ] ^ Spanish is de facto the official language in the Mexican federal government.\n",
      "\n"
     ]
    }
   ],
   "source": [
    "mexico = fetch_infobox_content(\"Mexico\")\n",
    "print(mexico)"
   ]
  },
  {
   "cell_type": "code",
   "execution_count": 334,
   "id": "0a319fd9-8f00-4cb6-a118-1e82cde0243b",
   "metadata": {},
   "outputs": [
    {
     "name": "stdout",
     "output_type": "stream",
     "text": [
      "Belize Bileez ( Belizean Creole )\n",
      "Flag Coat of arms\n",
      "Motto: Sub umbra floreo ( Latin ) \"Under the shade I flourish\"\n",
      "Anthem: \" Land of the Free \" Royal anthem : \" God Save the King \"\n",
      "Location of Belize (dark green) in the Americas Belize and its neighbours: * Guatemala (* Petén Department * Izabal Department ) * Mexico (* Quintana Roo * Campeche )\n",
      "Capital Belmopan 17°15′N 88°46′W ﻿ / ﻿ 17.250°N 88.767°W ﻿ / 17.250; -88.767\n",
      "Largest city Belize City 17°29′N 88°11′W ﻿ / ﻿ 17.483°N 88.183°W ﻿ / 17.483; -88.183\n",
      "Official languages English\n",
      "Vernacular language Belizean Creole\n",
      "Regional and minority languages Spanish Mayan German Garifuna Chinese [ 1 ]\n",
      "Religion (2022) [ 2 ] 61.9% Christianity 31.8% no religion 6.3% other\n",
      "Demonym(s) Belizean\n",
      "Government Unitary parliamentary constitutional monarchy\n",
      "\n",
      "• Monarch Charles III\n",
      "• Governor-General Froyla Tzalam\n",
      "• Prime Minister Johnny Briceño\n",
      "\n",
      "Legislature National Assembly\n",
      "• Upper house Senate\n",
      "• Lower house House of Representatives\n",
      "Independence from the United Kingdom\n",
      "\n",
      "• Self-governance January 1964\n",
      "• Independence 21 September 1981\n",
      "\n",
      "Area\n",
      "• Total 22,966 km 2 (8,867 sq mi) [ 3 ] [ 4 ] ( 147th )\n",
      "• Water (%) 0.8\n",
      "Population\n",
      "• 2022 census 397,483 [ 5 ]\n",
      "• Density 17.31/km 2 (44.8/sq mi)\n",
      "GDP ( PPP ) 2023 estimate\n",
      "• Total $5.032 billion [ 6 ] ( 180th )\n",
      "• Per capita $11,166 [ 6 ] ( 123rd )\n",
      "GDP (nominal) 2023 estimate\n",
      "• Total $3.218 billion [ 6 ] ( 179th )\n",
      "• Per capita $7,141 [ 6 ] ( 98th )\n",
      "Gini (2013) 53.1 [ 7 ] high inequality\n",
      "HDI (2022) 0.700 [ 8 ] high ( 118th )\n",
      "Currency Belize dollar ($) ( BZD )\n",
      "Time zone UTC −6 ( CST (GMT−6) [ 9 ] )\n",
      "Drives on right\n",
      "Calling code +501\n",
      "ISO 3166 code BZ\n",
      "Internet TLD .bz\n",
      "\n"
     ]
    }
   ],
   "source": [
    "belize = fetch_infobox_content(\"Belize\")\n",
    "print(belize)"
   ]
  },
  {
   "cell_type": "code",
   "execution_count": 349,
   "id": "c5d1b96a-75f8-4817-8a04-649167079d1d",
   "metadata": {},
   "outputs": [
    {
     "name": "stdout",
     "output_type": "stream",
     "text": [
      "Commonwealth of The Bahamas\n",
      "Flag Coat of arms\n",
      "Motto: \"Forward, Upward, Onward, Together\"\n",
      "Anthem: \" March On, Bahamaland \" Royal anthem : \" God Save the King \" [ 1 ]\n",
      "Location in the Western Hemisphere The Bahamas in its region\n",
      "Capital and largest city Nassau 25°04′41″N 77°20′19″W ﻿ / ﻿ 25.07806°N 77.33861°W ﻿ / 25.07806; -77.33861\n",
      "Official languages English\n",
      "Vernacular language Bahamian Creole\n",
      "Ethnic groups (2020) 90.6% Black 4.7% White 2.1% mixed 1.9% other 0.7% unspecified [ 2 ] [ 3 ]\n",
      "Religion (2020) [ 4 ] 93.0% Christianity 75.1% Protestantism 17.9% other Christian 4.5% no religion 1.9% folk religions 0.6% other\n",
      "Demonym(s) Bahamian\n",
      "Government Unitary parliamentary constitutional monarchy [ 5 ] [ 6 ]\n",
      "\n",
      "• Monarch Charles III\n",
      "• Governor-General Cynthia A. Pratt\n",
      "• Prime Minister Philip Davis\n",
      "\n",
      "Legislature Parliament\n",
      "• Upper house Senate\n",
      "• Lower house House of Assembly\n",
      "Independence from the United Kingdom\n",
      "\n",
      "• Realm 10 July 1973 [ 7 ]\n",
      "\n",
      "Area\n",
      "• Total 13,943 km 2 (5,383 sq mi) ( 155th )\n",
      "• Water (%) 28%\n",
      "Population\n",
      "• 2023 census 412,628 [ 8 ]\n",
      "• Density 25.21/km 2 (65.3/sq mi) ( 181st )\n",
      "GDP ( PPP ) 2024 estimate\n",
      "• Total $18.989 billion [ 9 ] ( 153rd )\n",
      "• Per capita $46,524 [ 9 ] ( 43rd )\n",
      "GDP (nominal) 2024 estimate\n",
      "• Total $14.390 billion [ 9 ] ( 146th )\n",
      "• Per capita $35,257 [ 9 ] ( 29th )\n",
      "HDI (2022) 0.820 [ 10 ] very high ( 57th )\n",
      "Currency Bahamian dollar (BSD) United States dollar (USD)\n",
      "Time zone UTC −5 ( EST )\n",
      "• Summer ( DST ) UTC −4 ( EDT )\n",
      "Drives on left\n",
      "Calling code +1 242\n",
      "ISO 3166 code BS\n",
      "Internet TLD .bs\n",
      "^ Also referred to as Bahamian [ 11 ]\n",
      "\n"
     ]
    }
   ],
   "source": [
    "bahamas = fetch_infobox_content(\"The Bahamas\")\n",
    "print(bahamas)"
   ]
  },
  {
   "cell_type": "code",
   "execution_count": 358,
   "id": "d372c094-da5b-4d1f-ba0e-f3ee44c92595",
   "metadata": {},
   "outputs": [
    {
     "name": "stdout",
     "output_type": "stream",
     "text": [
      "Republic of Costa Rica República de Costa Rica ( Spanish )\n",
      "Flag Coat of arms\n",
      "Anthem: \" Himno Nacional de Costa Rica \" ( Spanish ) \"National Anthem of Costa Rica\"\n",
      "\n",
      "Capital and largest city San José 9°56′N 84°5′W ﻿ / ﻿ 9.933°N 84.083°W ﻿ / 9.933; -84.083\n",
      "Official languages Spanish\n",
      "Recognized regional languages Mekatelyu Bribri Patois\n",
      "Ethnic groups (2021 [ 1 ] ) 83.6% White or Mestizo 6.7% Mulatto (mixed Black and White ) 2.4% Indigenous 1.1% Black 6.2% others [ 2 ]\n",
      "Religion (2021) [ 3 ] 72.6% Christianity 47.5% Catholicism ( official ) [ 4 ] 22.5% Protestantism 2.6% other Christian 27.0% no religion 0.4% others\n",
      "Demonym(s) Costa Rican Tico(a)\n",
      "Government Unitary presidential republic\n",
      "\n",
      "• President Rodrigo Chaves\n",
      "• 1st Vice-President Stephan Brunner\n",
      "• 2nd Vice-President Mary Munive\n",
      "\n",
      "Legislature Legislative Assembly\n",
      "Independence from\n",
      "\n",
      "• from Spain 15 September 1821\n",
      "• from First Mexican Empire 1 July 1823\n",
      "• from the Federal Republic of Central America 14 November 1838\n",
      "• Current constitution 7 November 1949 [ 1 ]\n",
      "• Recognized by Spain 10 May 1850\n",
      "\n",
      "Area\n",
      "• Total 51,179.92 km 2 (19,760.68 sq mi) ( 126th )\n",
      "• Water (%) 1.05 (as of 2015) [ 5 ]\n",
      "Population\n",
      "• 2022 census 5,044,197 [ 6 ]\n",
      "• Density 220/sq mi (84.9/km 2 ) ( 107th )\n",
      "GDP ( PPP ) 2023 estimate\n",
      "• Total $141.527 billion [ 7 ] ( 90th )\n",
      "• Per capita $26,809 [ 7 ] ( 66th )\n",
      "GDP (nominal) 2023 estimate\n",
      "• Total $85.590 billion [ 7 ] ( 85th )\n",
      "• Per capita $16,213 [ 7 ] ( 64th )\n",
      "Gini (2022) 47.2 [ 8 ] high inequality\n",
      "HDI (2022) 0.806 [ 9 ] very high ( 64th )\n",
      "Currency Costa Rican colón ( CRC )\n",
      "Time zone UTC −6 ( CST )\n",
      "Drives on right\n",
      "Calling code +506\n",
      "ISO 3166 code CR\n",
      "Internet TLD .cr .co.cr\n",
      "\n"
     ]
    }
   ],
   "source": [
    "cr = fetch_infobox_content(\"Costa Rica\")\n",
    "print(cr)"
   ]
  },
  {
   "cell_type": "code",
   "execution_count": 362,
   "id": "f5faade5-ecad-4650-ba20-bf8fbc9b9734",
   "metadata": {},
   "outputs": [
    {
     "name": "stdout",
     "output_type": "stream",
     "text": [
      "Federative Republic of Brazil República Federativa do Brasil\n",
      "Flag Coat of arms\n",
      "Motto: Ordem e Progresso \"Order and Progress\"\n",
      "Anthem: Hino Nacional Brasileiro \"Brazilian National Anthem\" Flag anthem : Hino à Bandeira Nacional [ 1 ] \"National Flag Anthem\"\n",
      "National Seal Selo Nacional do Brasil National Seal of Brazil\n",
      "\n",
      "Capital Brasília 15°47′S 47°52′W ﻿ / ﻿ 15.783°S 47.867°W ﻿ / -15.783; -47.867\n",
      "Largest city São Paulo 23°33′S 46°38′W ﻿ / ﻿ 23.550°S 46.633°W ﻿ / -23.550; -46.633\n",
      "Official language and national language Portuguese\n",
      "Recognized regional languages See regional official languages\n",
      "Ethnic groups (2022) [ 2 ] 45.3% Pardo 43.5% White 10.2% Black 0.6% Indigenous 0.4% East Asian [ a ]\n",
      "Religion (2022) [ 3 ] [ 4 ] 79% Christianity 51% Catholicism 28% Protestantism 12% no religion 5% other religions Spiritism Umbanda Candomblé , etc.\n",
      "Demonym(s) Brazilian\n",
      "Government Federal presidential republic\n",
      "\n",
      "• President Lula da Silva\n",
      "• Vice President Geraldo Alckmin\n",
      "• President of the Chamber of Deputies Arthur Lira\n",
      "• President of the Federal Senate Rodrigo Pacheco\n",
      "• President of the Supreme Federal Court Luís Roberto Barroso\n",
      "\n",
      "Legislature National Congress\n",
      "• Upper house Federal Senate\n",
      "• Lower house Chamber of Deputies\n",
      "Independence from Portugal\n",
      "\n",
      "• Declared 7 September 1822\n",
      "• Recognized 29 August 1825\n",
      "• Republic 15 November 1889\n",
      "• Current constitution 5 October 1988\n",
      "\n",
      "Area\n",
      "• Total 8,515,767 km 2 (3,287,956 sq mi) ( 5th )\n",
      "• Water (%) 0.65\n",
      "Population\n",
      "• 2022 census 203,080,756 [ 5 ] ( 7th )\n",
      "• Density 23.8 [ 6 ] /km 2 (61.6/sq mi) ( 193rd )\n",
      "GDP ( PPP ) 2024 estimate\n",
      "• Total $4.702 trillion [ 7 ] ( 8th )\n",
      "• Per capita $22,122 [ 7 ] ( 78th )\n",
      "GDP (nominal) 2024 estimate\n",
      "• Total $2.188 trillion [ 7 ] ( 8th )\n",
      "• Per capita $10,296 [ 7 ] ( 78th )\n",
      "Gini (2022) 52 [ 8 ] high inequality\n",
      "HDI (2022) 0.760 [ 9 ] high ( 89th )\n",
      "Currency Real (R$) ( BRL )\n",
      "Time zone UTC −2 to −5 ( BRT )\n",
      " DST is not observed.\n",
      "Date format dd/mm/yyyy ( CE )\n",
      "Drives on right\n",
      "Calling code +55\n",
      "ISO 3166 code BR\n",
      "Internet TLD .br\n",
      "\n"
     ]
    }
   ],
   "source": [
    "brazil = fetch_infobox_content(\"Brazil\")\n",
    "print(brazil)"
   ]
  },
  {
   "cell_type": "code",
   "execution_count": 396,
   "id": "74555dc1-80bb-451f-9ffc-2ce9e6ba8eb6",
   "metadata": {},
   "outputs": [
    {
     "name": "stdout",
     "output_type": "stream",
     "text": [
      "United Kingdom of Great Britain and Northern Ireland\n",
      "Flag\n",
      "Anthem: \" God Save the King \" [ a ]\n",
      "Coats of arms : Used in relation to Scotland (right) and elsewhere (left)\n",
      "Show globe Show map of Europe Show British Overseas Territories and Crown Dependencies Show its exclusive economic zones\n",
      "Capital and largest city London 51°30′N 0°7′W ﻿ / ﻿ 51.500°N 0.117°W ﻿ / 51.500; -0.117\n",
      "National language English\n",
      "Regional and minority languages [ b ] Scots Ulster Scots Welsh Cornish Scottish Gaelic Irish British Sign Language\n",
      "Ethnic groups ( 2021 ) [ c ] [ 4 ] [ 5 ] [ 6 ] 83.0% White 8.6% Asian 3.7% Black 2.7% Mixed 2.0% other\n",
      "Religion (2021) [ c ] [ 7 ] [ 8 ] [ 6 ] 46.5% Christianity 37.8% no religion 6.0% Islam 1.6% Hinduism 0.8% Sikhism 0.4% Buddhism 0.4% Judaism 0.6% other 5.9% not stated\n",
      "Demonym(s) British Briton\n",
      "Government Unitary [ d ] parliamentary constitutional monarchy\n",
      "\n",
      "• Monarch Charles III\n",
      "• Prime Minister Keir Starmer\n",
      "\n",
      "Legislature Parliament\n",
      "• Upper house House of Lords\n",
      "• Lower house House of Commons\n",
      "Formation\n",
      "\n",
      "• Laws in Wales Acts 1535 and 1542\n",
      "• Union of the Crowns 24 March 1603\n",
      "• Treaty of Union 22 July 1706\n",
      "• Acts of Union of England and Scotland 1 May 1707\n",
      "• Acts of Union of Great Britain and Ireland 1 January 1801\n",
      "• Irish Free State Constitution Act 6 December 1922\n",
      "\n",
      "Area\n",
      "• Total [ f ] 244,376 km 2 (94,354 sq mi) [ 12 ] ( 78th )\n",
      "• Land [ e ] 242,495 km 2 (93,628 sq mi)\n",
      "Population\n",
      "• 2023 estimate 68,265,209 [ 13 ] ( 21st )\n",
      "• 2021 census 66,940,559 [ c ] [ 14 ] [ 15 ] [ 16 ]\n",
      "• Density 281/km 2 (727.8/sq mi) [ 13 ] ( 51st )\n",
      "GDP ( PPP ) 2024 estimate\n",
      "• Total $4.282 trillion [ 17 ] ( 9th )\n",
      "• Per capita $62,573 [ 17 ] ( 27th )\n",
      "GDP (nominal) 2024 estimate\n",
      "• Total $3.587 trillion [ 17 ] ( 6th )\n",
      "• Per capita $52,423 [ 17 ] ( 21st )\n",
      "Gini (2021) 35.4 [ 18 ] medium inequality\n",
      "HDI (2022) 0.940 [ 19 ] very high ( 15th )\n",
      "Currency Pound sterling [ g ] ( £ ) ( GBP )\n",
      "Time zone UTC +0 ( GMT )\n",
      "• Summer ( DST ) UTC +1 ( BST [ h ] )\n",
      "Date format dd / mm / yyyy ( AD ) [ i ]\n",
      "Drives on left [ j ]\n",
      "Calling code +44 [ k ]\n",
      "ISO 3166 code GB\n",
      "Internet TLD .uk [ l ]\n",
      "\n"
     ]
    }
   ],
   "source": [
    "uk = fetch_infobox_content(\"United Kingdom\")\n",
    "print(uk)"
   ]
  },
  {
   "cell_type": "code",
   "execution_count": 406,
   "id": "e006d185-581d-403a-b04d-b9446df15de2",
   "metadata": {},
   "outputs": [
    {
     "name": "stdout",
     "output_type": "stream",
     "text": [
      "Netherlands Nederland ( Dutch ) In 2 regional languages [ a ] West Frisian : Nederlân Papiamentu : Hulanda West Frisian : Nederlân Papiamentu : Hulanda\n",
      "West Frisian : Nederlân\n",
      "Papiamentu : Hulanda\n",
      "Constituent country in the Kingdom of the Netherlands\n",
      "Flag Coat of arms\n",
      "Motto : Je maintiendrai ( French ) ( \"I will maintain\" )\n",
      "Anthem : Wilhelmus ( Dutch ) ( \"William of Nassau\" )\n",
      "Netherlands on the globe Metropolitan Netherlands in Europe Municipalities in the Caribbean Location of Netherlands (dark green) – in Europe (light green & dark grey) – in the European Union (light green)\n",
      "Sovereign state Kingdom of the Netherlands\n",
      "Before independence Spanish Netherlands\n",
      "Act of Abjuration 26 July 1581\n",
      "Peace of Münster 30 January 1648\n",
      "United Kingdom of the Netherlands 16 March 1815\n",
      "Liberation Day 5 May 1945\n",
      "Kingdom Charter 15 December 1954\n",
      "Caribbean reorganisation 10 October 2010\n",
      "Capital and largest city Amsterdam [ b ] 52°22′N 4°53′E ﻿ / ﻿ 52.367°N 4.883°E ﻿ / 52.367; 4.883\n",
      "Government seat The Hague [ b ]\n",
      "Official languages Dutch\n",
      "Regional languages West Frisian Papiamento English [ a ]\n",
      "Recognised languages Dutch Low Saxon Dutch Sign Language Limburgish Sinte Romani Yiddish [ c ]\n",
      "Ethnic groups (2022) 74.0% Dutch [ d ] 8.4% other European 2.4% Turkish 2.4% Moroccan 2.1% Indonesian 2.1% Surinamese 1.1% Dutch Caribbean 7.6% other [ 3 ]\n",
      "Religion (2023) [ 4 ] 58% no religion 30% Christianity 6% Islam 6% other\n",
      "Demonym(s) Dutch\n",
      "Government Unitary parliamentary constitutional monarchy\n",
      "\n",
      "• Monarch Willem-Alexander\n",
      "• Prime Minister Dick Schoof\n",
      "\n",
      "Legislature States General\n",
      "• Upper house Senate\n",
      "• Lower house House of Representatives\n",
      "European Parliament\n",
      "• Netherlands constituency 31 seats\n",
      "Area\n",
      "• Total 41,865 [ 5 ] [ e ] km 2 (16,164 sq mi) ( 134th )\n",
      "• Water (%) 18.41 [ 6 ]\n",
      "Highest elevation ( Mount Scenery ) 887 m (2,910 ft)\n",
      "Population\n",
      "• 7 November 2024 estimate 18,211,000 [ 7 ] ( 69th )\n",
      "• 2011 census 16,655,799 [ 8 ]\n",
      "• Density 520/km 2 (1,346.8/sq mi) ( 33rd )\n",
      "GDP ( PPP ) 2024 estimate\n",
      "• Total $1.460 trillion [ 9 ] ( 28th )\n",
      "• Per capita $81,494 [ 9 ] ( 11th )\n",
      "GDP (nominal) 2024 estimate\n",
      "• Total $1.218 trillion [ 9 ] ( 17th )\n",
      "• Per capita $67,984 [ 9 ] ( 11th )\n",
      "Gini (2021) 26.4 [ 10 ] low\n",
      "HDI (2022) 0.946 [ 11 ] very high · 10th\n",
      "Currency Euro (€) ( EUR ) United States dollar (US$) ( USD ) [ f ]\n",
      "Time zone UTC+01:00 ( CET ) UTC−04:00 ( AST ) [ g ]\n",
      "• Summer ( DST ) UTC+02:00 ( CEST ) UTC−04:00 (AST)\n",
      "Driving side right\n",
      "Calling code +31 , +599 [ h ]\n",
      "Internet TLD .nl , .bq [ i ]\n",
      "\n"
     ]
    }
   ],
   "source": [
    "tn = fetch_infobox_content(\"The Netherlands\")\n",
    "print(tn)"
   ]
  },
  {
   "cell_type": "code",
   "execution_count": 414,
   "id": "23131629-7d2f-4e37-9c76-1f0c7c2fed98",
   "metadata": {},
   "outputs": [
    {
     "name": "stdout",
     "output_type": "stream",
     "text": [
      "Grand Duchy of Luxembourg Groussherzogtum Lëtzebuerg ​ ( Luxembourgish ) Grand-Duché de Luxembourg ​ ( French ) Großherzogtum Luxemburg ​ ( German )\n",
      "Flag Coat of arms\n",
      "Motto: \" Mir wëlle bleiwe wat mir sinn \" \"We want to stay what we are\"\n",
      "Anthem: \" Ons Heemecht \" (\"Our Homeland\") Royal anthem : \" De Wilhelmus \" a\n",
      "Location of Luxembourg (dark green) – in Europe (green & dark gray) – in the European Union (green)\n",
      "Capital and largest city Luxembourg [ 1 ] 49°48′52″N 06°07′54″E ﻿ / ﻿ 49.81444°N 6.13167°E ﻿ / 49.81444; 6.13167\n",
      "Official languages National language: Luxembourgish Administrative languages: Luxembourgish German French\n",
      "Nationality (2023) 52.8% Luxembourgers 14.5% Portuguese 7.6% French 3.7% Italians 21.4% other\n",
      "\n",
      "Religion (2018 [ 2 ] ) 73.2% Christianity 63.8% Catholicism 9.4% other Christian 23.4% no religion 3.2% other\n",
      "Demonym(s) Luxembourger Luxembourgish\n",
      "Government Unitary parliamentary constitutional monarchy\n",
      "\n",
      "• Grand Duke Henri\n",
      "• Regent Guillaume\n",
      "• Prime Minister Luc Frieden\n",
      "\n",
      "Legislature Chamber of Deputies\n",
      "Independence\n",
      "\n",
      "• From the French Empire and elevation to Grand Duchy of Luxembourg 9 June 1815\n",
      "• Independence in personal Union with the Netherlands ( Treaty of London ) 19 April 1839\n",
      "• End of personal union with the Kingdom of the Netherlands 23 November 1890\n",
      "• Occupation during World War I by the German Empire 1 August 1914\n",
      "• Liberation from the Greater German Reich 1944/1945\n",
      "\n",
      "Area\n",
      "• Total 2,586.4 km 2 (998.6 sq mi) ( 168th )\n",
      "• Water (%) 0.23 (2015) [ 3 ]\n",
      "Population\n",
      "• January 2024 estimate 672,050 [ 4 ] ( 163rd )\n",
      "• 2021 census 643,941 [ 5 ]\n",
      "• Density 255/km 2 (660.4/sq mi) ( 58th )\n",
      "GDP ( PPP ) 2024 estimate\n",
      "• Total $101.876 billion [ 6 ] ( 100th )\n",
      "• Per capita $151,146 [ 6 ] ( 1st )\n",
      "GDP (nominal) 2024 estimate\n",
      "• Total $91.210 billion [ 6 ] ( 73rd )\n",
      "• Per capita $135,321 [ 6 ] ( 1st )\n",
      "Gini (2023) 30.6 [ 7 ] medium inequality\n",
      "HDI (2022) 0.927 [ 8 ] very high ( 20th )\n",
      "Currency Euro ( € ) ( EUR )\n",
      "Time zone UTC +1 ( CET )\n",
      "• Summer ( DST ) UTC +2 ( CEST )\n",
      " Note: Although Luxembourg is located in Western European Time / UTC (Z) zone, since 1 June 1904, LMT (UTC+0:24:36) was abandoned and Central European Time / UTC+1 was adopted as standard time, [1] with a +0:35:24 offset (+1:35:24 during DST ) from Luxembourg City's LMT.\n",
      "Calling code +352\n",
      "ISO 3166 code LU\n",
      "Internet TLD .lu b\n",
      "Not the same as the Het Wilhelmus of the Netherlands The .eu domain is also used, as it is shared with other European Union member states. ^ \"Field Listing – Distribution of family income – Gini index\" . The World Factbook . Central Intelligence Agency . Archived from the original on 13 June 2007 . Retrieved 3 May 2013 .\n",
      "\n"
     ]
    }
   ],
   "source": [
    "luxem = fetch_infobox_content(\"Luxemborg\")\n",
    "print(luxem)"
   ]
  },
  {
   "cell_type": "code",
   "execution_count": 418,
   "id": "132a7753-6283-448d-a83a-783746de50fc",
   "metadata": {},
   "outputs": [
    {
     "name": "stdout",
     "output_type": "stream",
     "text": [
      "Federal Republic of Germany Bundesrepublik Deutschland ( German )\n",
      "Flag Coat of arms\n",
      "Anthem: \" Das Lied der Deutschen \" [ a ] (\"The Song of the Germans\")\n",
      "Show globe Show map of Europe Location of Germany (dark green) – in Europe (light green & dark grey) – in the European Union (light green)\n",
      "Capital and largest city Berlin [ b ] 52°31′N 13°23′E ﻿ / ﻿ 52.517°N 13.383°E ﻿ / 52.517; 13.383\n",
      "Official languages German [ c ]\n",
      "Demonym(s) German\n",
      "Government Federal parliamentary republic [ 4 ]\n",
      "\n",
      "• President Frank-Walter Steinmeier\n",
      "• Chancellor Olaf Scholz\n",
      "\n",
      "Legislature Bundestag , Bundesrat [ d ]\n",
      "Area\n",
      "• Total 357,569 km 2 (138,058 sq mi) [ 6 ] ( 63rd )\n",
      "• Water (%) 1.27 [ 5 ]\n",
      "Population\n",
      "• 2022 census 82,719,540 [ 7 ]\n",
      "• Density 236/km 2 (611.2/sq mi) ( 58th )\n",
      "GDP ( PPP ) 2024 estimate\n",
      "• Total $6.017 trillion [ 8 ] ( 5th )\n",
      "• Per capita $70,930 [ 8 ] ( 19th )\n",
      "GDP (nominal) 2024 estimate\n",
      "• Total $4.710 trillion [ 8 ] ( 3rd )\n",
      "• Per capita $55,521 [ 8 ] ( 16th )\n",
      "Gini (2023) 29.4 [ 9 ] low inequality\n",
      "HDI (2022) 0.950 [ 10 ] very high ( 7th )\n",
      "Currency Euro ( € ) ( EUR )\n",
      "Time zone UTC +1 ( CET )\n",
      "• Summer ( DST ) UTC +2 ( CEST )\n",
      "Date format Day, month, year Year, month, day\n",
      "Drives on right\n",
      "Calling code +49\n",
      "ISO 3166 code DE\n",
      "Internet TLD .de\n",
      "\n"
     ]
    }
   ],
   "source": [
    "germany = fetch_infobox_content(\"Germany\")\n",
    "print(germany)"
   ]
  },
  {
   "cell_type": "markdown",
   "id": "e57769c9-32fc-4e5f-80f2-4ed5206b9604",
   "metadata": {},
   "source": [
    "# Regular Expression \n",
    "\n",
    "**Using Regular Expression to extract all the key information needed from the wikipedia page.**"
   ]
  },
  {
   "cell_type": "code",
   "execution_count": 401,
   "id": "957403dc-5937-4e0d-8b34-4d8c23c5255e",
   "metadata": {},
   "outputs": [],
   "source": [
    "def fetch_area(country):\n",
    "    if country.startswith(\"Republic of Honduras\") or country.startswith(\"Belize\") :\n",
    "        area = re.findall(\"Total\\s([0-9,]+)\",country)\n",
    "        return area\n",
    "    elif country.startswith(\"Canada\") or country.startswith(\"United States of America\"):\n",
    "        area = re.findall(r\"Total\\sarea\\s([0-9,]+)\",country)\n",
    "        water = re.findall(\"Water\\s\\(\\%\\)\\s([0-9.]+)\",country)\n",
    "        land = re.findall(\"Total\\sland\\sarea\\s([0-9,]+)\",country)\n",
    "        return {\"Area\":''.join(area), \"Water\":''.join(water), \"Total Land Area\":''.join(land)}\n",
    "    else:\n",
    "        area = re.findall(\"Total\\s([0-9,]+)\",country)\n",
    "        water = re.findall(\"Water\\s\\(\\%\\)\\s([0-9.]+)\",country)\n",
    "        return {\"Area\":''.join(area), \"Water\":''.join(water)}"
   ]
  },
  {
   "cell_type": "code",
   "execution_count": 363,
   "id": "64f2a451-78c9-49cc-8fb6-91ac4eee6f66",
   "metadata": {},
   "outputs": [],
   "source": [
    "def fetch_capital(country):\n",
    "    if country[0:6] == \"Canada\" :\n",
    "        cap = re.findall(\"Capital\\s([a-zA-Z]+(?:\\s[A-Za-z]+){0,3})\",country)\n",
    "        city = re.findall(\"Largest\\scity\\s([A-Za-z]+(?:\\s[a-zA-Z]+){0,2})(?=\\n)\",country)\n",
    "        return ''.join(cap) ,''.join(city)\n",
    "    elif country.startswith(\"United States of America\")or country.startswith(\"Belize\") or country.startswith(\"Federative Republic of Brazil\"):\n",
    "        cap = re.findall(\"Capital\\s([a-zA-Z]+(?:\\s[A-Za-z]+){0,3})\",country)\n",
    "        city = re.findall(\"Largest\\scity\\s([A-Za-z]+(?:\\s[a-zA-Z]+){0,2})\",country)\n",
    "        return ''.join(cap),''.join(city)\n",
    "    else:\n",
    "        city = re.findall(\"Capital\\sand\\slargest\\scity\\s([a-zA-Z]+(?:\\s[a-zA-Z]+){0,3})\",country)\n",
    "        return ''.join(city) ,''.join(city)"
   ]
  },
  {
   "cell_type": "code",
   "execution_count": 421,
   "id": "4425c01e-c2c6-4784-9357-1e6434fcbd8c",
   "metadata": {},
   "outputs": [],
   "source": [
    "def fetch_lang(country):\n",
    "    if country.startswith(\"Republic of El Salvador\") or country.startswith(\"United Mexican States\") or country.startswith(\"Federal Republic of Germany\"):\n",
    "        lang = re.findall(\"Official\\slanguages\\s([a-zA-z]+(?:\\s[a-zA-Z]+){0,4})\",country)\n",
    "    elif country.startswith(\"United States of America\") or country.startswith(\"United Kingdom of Great Britain\"):\n",
    "        lang = re.findall(\"National\\slanguage\\s([a-zA-z]+)\",country)\n",
    "    else:\n",
    "        lang = re.findall(\"Official\\slanguages\\s([a-zA-z]+(?:\\s[a-zA-Z]+){0,4})(?=\\n)\",country)\n",
    "    return ''.join(lang)"
   ]
  },
  {
   "cell_type": "code",
   "execution_count": 314,
   "id": "8819758f-0af5-4443-b56d-25e44d4e2025",
   "metadata": {},
   "outputs": [],
   "source": [
    "def fetch_cur(country):\n",
    "    cur = re.findall(\"Currency\\s([A-Za-z.]+(?:\\s[A-Za-z.]+){0,3})\",country)\n",
    "    return ''.join(cur)"
   ]
  },
  {
   "cell_type": "code",
   "execution_count": 412,
   "id": "57019f8f-341b-4ff0-b2d0-d0f3cd0207a4",
   "metadata": {},
   "outputs": [],
   "source": [
    "#accurate\n",
    "def fetch_info(country):\n",
    "    if country.startswith(\"Netherlands\"):\n",
    "        anthem = re.findall(\"Anthem\\s\\:\\s([a-zA-z]+)\",country)\n",
    "    else:\n",
    "        anthem = re.findall(\"Anthem:\\s.*?\\\"([^\\\"]+)\\\"\",country)\n",
    "    flag = re.findall(\"Flag\\s([A-Za-z]+(?:\\s[A-Za-z]+){0,3})(?=\\n)\",country)\n",
    "    demonym = re.findall(\"Demonym\\(s\\)\\s([A-Za-z]+)\",country)\n",
    "    return anthem,flag,demonym"
   ]
  },
  {
   "cell_type": "markdown",
   "id": "129190f7-1f3b-4383-9531-2c1f14d811f6",
   "metadata": {},
   "source": [
    "# Each and every Country data live from wikipedia"
   ]
  },
  {
   "cell_type": "code",
   "execution_count": 387,
   "id": "7e6233aa-a712-447c-9574-41bf10c803a0",
   "metadata": {},
   "outputs": [
    {
     "name": "stdout",
     "output_type": "stream",
     "text": [
      "{'Area': '9,984,670', 'Water': '11.76', 'Total Land Area': '9,093,507'} \n",
      " ('Ottawa', 'Toronto') \n",
      " English French \n",
      " Canadian dollar \n",
      " ([' O Canada '], ['Coat of arms'], ['Canadian'])\n"
     ]
    }
   ],
   "source": [
    "a = fetch_area(canada)\n",
    "b = fetch_capital(canada)\n",
    "c = fetch_lang(canada)\n",
    "e = fetch_cur(canada)\n",
    "f = fetch_info(canada)\n",
    "print(a,\"\\n\",b,\"\\n\",c,\"\\n\",e,\"\\n\",f)"
   ]
  },
  {
   "cell_type": "code",
   "execution_count": 388,
   "id": "ed10d57e-f1c9-4552-8c01-30068b5a1236",
   "metadata": {},
   "outputs": [
    {
     "name": "stdout",
     "output_type": "stream",
     "text": [
      "{'Area': '3,796,742', 'Water': '7.0', 'Total Land Area': ''} \n",
      " ('Washington', 'New York City') \n",
      " English \n",
      " U.S. dollar \n",
      " ([' The Star-Spangled Banner '], ['Coat of arms'], ['American'])\n"
     ]
    }
   ],
   "source": [
    "a = fetch_area(us)\n",
    "b = fetch_capital(us)\n",
    "c = fetch_lang(us)\n",
    "e = fetch_cur(us)\n",
    "f = fetch_info(us)\n",
    "print(a,\"\\n\",b,\"\\n\",c,\"\\n\",e,\"\\n\",f)"
   ]
  },
  {
   "cell_type": "code",
   "execution_count": 389,
   "id": "5971c90b-fe89-4577-85f3-2d9ee3c5a7af",
   "metadata": {},
   "outputs": [
    {
     "name": "stdout",
     "output_type": "stream",
     "text": [
      "{'Area': '21,041', 'Water': '1.5'} \n",
      " ('San Salvador', 'San Salvador') \n",
      " Spanish \n",
      " United States dollar \n",
      " ([' National Anthem of El Salvador '], ['Coat of arms'], ['Salvadoran'])\n"
     ]
    }
   ],
   "source": [
    "a = fetch_area(el_salvador)\n",
    "b = fetch_capital(el_salvador)\n",
    "c = fetch_lang(el_salvador)\n",
    "e = fetch_cur(el_salvador)\n",
    "f = fetch_info(el_salvador)\n",
    "print(a,\"\\n\",b,\"\\n\",c,\"\\n\",e,\"\\n\",f)"
   ]
  },
  {
   "cell_type": "code",
   "execution_count": 390,
   "id": "06aa1771-caf4-4e7e-aed7-38c9d4627fae",
   "metadata": {},
   "outputs": [
    {
     "name": "stdout",
     "output_type": "stream",
     "text": [
      "['112,492'] \n",
      " ('Tegucigalpa', 'Tegucigalpa') \n",
      " Spanish \n",
      " Lempira \n",
      " ([' National Anthem of Honduras '], ['Coat of arms'], ['Honduran'])\n"
     ]
    }
   ],
   "source": [
    "a = fetch_area(honduras)\n",
    "b = fetch_capital(honduras)\n",
    "c = fetch_lang(honduras)\n",
    "e = fetch_cur(honduras)\n",
    "f = fetch_info(honduras)\n",
    "print(a,\"\\n\",b,\"\\n\",c,\"\\n\",e,\"\\n\",f)"
   ]
  },
  {
   "cell_type": "code",
   "execution_count": 391,
   "id": "37be4cdb-bb87-497c-862b-475b92392cac",
   "metadata": {},
   "outputs": [
    {
     "name": "stdout",
     "output_type": "stream",
     "text": [
      "{'Area': '1,972,550', 'Water': '1.58'} \n",
      " ('Mexico City', 'Mexico City') \n",
      " Spanish \n",
      " Mexican peso \n",
      " ([], ['Coat of arms'], ['Mexican'])\n"
     ]
    }
   ],
   "source": [
    "a = fetch_area(mexico)\n",
    "b = fetch_capital(mexico)\n",
    "c = fetch_lang(mexico)\n",
    "e = fetch_cur(mexico)\n",
    "f = fetch_info(mexico)\n",
    "print(a,\"\\n\",b,\"\\n\",c,\"\\n\",e,\"\\n\",f)"
   ]
  },
  {
   "cell_type": "code",
   "execution_count": 392,
   "id": "43739f64-70d9-479e-bbc5-052ae0771414",
   "metadata": {},
   "outputs": [
    {
     "name": "stdout",
     "output_type": "stream",
     "text": [
      "['22,966'] \n",
      " ('Belmopan', 'Belize City') \n",
      " English\n",
      "Vernacular language Belizean Creole \n",
      " Belize dollar \n",
      " ([' Land of the Free '], ['Coat of arms'], ['Belizean'])\n"
     ]
    }
   ],
   "source": [
    "a = fetch_area(belize)\n",
    "b = fetch_capital(belize)\n",
    "c = fetch_lang(belize)\n",
    "e = fetch_cur(belize)\n",
    "f = fetch_info(belize)\n",
    "print(a,\"\\n\",b,\"\\n\",c,\"\\n\",e,\"\\n\",f)"
   ]
  },
  {
   "cell_type": "code",
   "execution_count": 393,
   "id": "aaa80c44-fde6-46c4-a63e-742598a91040",
   "metadata": {},
   "outputs": [
    {
     "name": "stdout",
     "output_type": "stream",
     "text": [
      "{'Area': '13,943', 'Water': '28'} \n",
      " ('Nassau', 'Nassau') \n",
      " English\n",
      "Vernacular language Bahamian Creole \n",
      " Bahamian dollar \n",
      " ([' March On, Bahamaland '], ['Coat of arms'], ['Bahamian'])\n"
     ]
    }
   ],
   "source": [
    "a = fetch_area(bahamas)\n",
    "b = fetch_capital(bahamas)\n",
    "c = fetch_lang(bahamas)\n",
    "e = fetch_cur(bahamas)\n",
    "f = fetch_info(bahamas)\n",
    "print(a,\"\\n\",b,\"\\n\",c,\"\\n\",e,\"\\n\",f)"
   ]
  },
  {
   "cell_type": "code",
   "execution_count": 394,
   "id": "a84cc7b8-a972-459e-9d01-f3b6b6ed5092",
   "metadata": {},
   "outputs": [
    {
     "name": "stdout",
     "output_type": "stream",
     "text": [
      "{'Area': '51,179', 'Water': '1.05'} \n",
      " ('San Jos', 'San Jos') \n",
      " Spanish \n",
      " Costa Rican col \n",
      " ([' Himno Nacional de Costa Rica '], ['Coat of arms'], ['Costa'])\n"
     ]
    }
   ],
   "source": [
    "a = fetch_area(cr)\n",
    "b = fetch_capital(cr)\n",
    "c = fetch_lang(cr)\n",
    "e = fetch_cur(cr)\n",
    "f = fetch_info(cr)\n",
    "print(a,\"\\n\",b,\"\\n\",c,\"\\n\",e,\"\\n\",f)"
   ]
  },
  {
   "cell_type": "code",
   "execution_count": 395,
   "id": "8932a8c4-e2b5-4239-9d1a-299dd8bed5e8",
   "metadata": {},
   "outputs": [
    {
     "name": "stdout",
     "output_type": "stream",
     "text": [
      "{'Area': '8,515,767', 'Water': '0.65'} \n",
      " ('Brasilia', 'Sao Paulo') \n",
      " Portuguese, Spanish \n",
      " Real \n",
      " (['Brazilian National Anthem'], ['Coat of arms'], ['Brazilian'])\n"
     ]
    }
   ],
   "source": [
    "brazil = remove_accents(brazil)\n",
    "a = fetch_area(brazil)\n",
    "b = fetch_capital(brazil)\n",
    "c = \"Portuguese, Spanish\"\n",
    "e = fetch_cur(brazil)\n",
    "f = fetch_info(brazil)\n",
    "print(a,\"\\n\",b,\"\\n\",c,\"\\n\",e,\"\\n\",f)"
   ]
  },
  {
   "cell_type": "code",
   "execution_count": 405,
   "id": "481463ab-698d-41f0-9023-fd4f15395dd8",
   "metadata": {},
   "outputs": [
    {
     "name": "stdout",
     "output_type": "stream",
     "text": [
      "{'Area': '244,376'} \n",
      " ('London', 'London') \n",
      " English \n",
      " Pound sterling \n",
      " ([' God Save the King '], [], ['British'])\n"
     ]
    }
   ],
   "source": [
    "a = {'Area': '244,376'}\n",
    "b = fetch_capital(uk)\n",
    "c = fetch_lang(uk)\n",
    "e = fetch_cur(uk)\n",
    "f = fetch_info(uk)\n",
    "print(a,\"\\n\",b,\"\\n\",c,\"\\n\",e,\"\\n\",f)"
   ]
  },
  {
   "cell_type": "code",
   "execution_count": 413,
   "id": "72ac0aa4-cf3b-4cc1-b00c-0c6b54370a4b",
   "metadata": {},
   "outputs": [
    {
     "name": "stdout",
     "output_type": "stream",
     "text": [
      "{'Area': '41,865', 'Water': '18.41'} \n",
      " ('Amsterdam', 'Amsterdam') \n",
      " Dutch \n",
      " Euro \n",
      " (['Wilhelmus'], ['Coat of arms'], ['Dutch'])\n"
     ]
    }
   ],
   "source": [
    "a = fetch_area(tn)\n",
    "b = fetch_capital(tn)\n",
    "c = fetch_lang(tn)\n",
    "e = fetch_cur(tn)\n",
    "f = fetch_info(tn)\n",
    "print(a,\"\\n\",b,\"\\n\",c,\"\\n\",e,\"\\n\",f)"
   ]
  },
  {
   "cell_type": "code",
   "execution_count": 416,
   "id": "a76d5a59-afe8-4228-b9a6-6bdb58145e0b",
   "metadata": {},
   "outputs": [
    {
     "name": "stdout",
     "output_type": "stream",
     "text": [
      "{'Area': '2,586', 'Water': '0.23'} \n",
      " ('Luxembourg', 'Luxembourg') \n",
      " Luxembourgish \n",
      " Euro \n",
      " ([' Ons Heemecht '], ['Coat of arms'], ['Luxembourger'])\n"
     ]
    }
   ],
   "source": [
    "a = fetch_area(luxem)\n",
    "b = fetch_capital(luxem)\n",
    "c = \"Luxembourgish\"\n",
    "e = fetch_cur(luxem)\n",
    "f = fetch_info(luxem)\n",
    "print(a,\"\\n\",b,\"\\n\",c,\"\\n\",e,\"\\n\",f)"
   ]
  },
  {
   "cell_type": "code",
   "execution_count": 422,
   "id": "b4a9859f-4b59-47e1-8151-c01653991457",
   "metadata": {},
   "outputs": [
    {
     "name": "stdout",
     "output_type": "stream",
     "text": [
      "{'Area': '357,569', 'Water': '1.27'} \n",
      " ('Berlin', 'Berlin') \n",
      " German \n",
      " Euro \n",
      " ([' Das Lied der Deutschen '], ['Coat of arms'], ['German'])\n"
     ]
    }
   ],
   "source": [
    "a = fetch_area(germany)\n",
    "b = fetch_capital(germany)\n",
    "c = fetch_lang(germany)\n",
    "e = fetch_cur(germany)\n",
    "f = fetch_info(germany)\n",
    "print(a,\"\\n\",b,\"\\n\",c,\"\\n\",e,\"\\n\",f)"
   ]
  },
  {
   "cell_type": "code",
   "execution_count": null,
   "id": "d49924bd-998b-4912-a71b-51fbdd3f558e",
   "metadata": {},
   "outputs": [],
   "source": []
  },
  {
   "cell_type": "code",
   "execution_count": null,
   "id": "e1b5e629-8947-486d-8874-171459df2a22",
   "metadata": {},
   "outputs": [],
   "source": []
  }
 ],
 "metadata": {
  "kernelspec": {
   "display_name": "Python 3 (ipykernel)",
   "language": "python",
   "name": "python3"
  },
  "language_info": {
   "codemirror_mode": {
    "name": "ipython",
    "version": 3
   },
   "file_extension": ".py",
   "mimetype": "text/x-python",
   "name": "python",
   "nbconvert_exporter": "python",
   "pygments_lexer": "ipython3",
   "version": "3.12.4"
  }
 },
 "nbformat": 4,
 "nbformat_minor": 5
}
